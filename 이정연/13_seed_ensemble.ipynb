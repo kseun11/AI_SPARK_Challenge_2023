{
  "nbformat": 4,
  "nbformat_minor": 0,
  "metadata": {
    "colab": {
      "provenance": [],
      "machine_shape": "hm"
    },
    "kernelspec": {
      "name": "python3",
      "display_name": "Python 3"
    },
    "language_info": {
      "name": "python"
    },
    "gpuClass": "standard"
  },
  "cells": [
    {
      "cell_type": "code",
      "execution_count": null,
      "metadata": {
        "id": "U1qp6WdwtA3o",
        "colab": {
          "base_uri": "https://localhost:8080/"
        },
        "outputId": "7f3da920-e65b-4f02-b2ec-6ff4495b981f"
      },
      "outputs": [
        {
          "output_type": "stream",
          "name": "stdout",
          "text": [
            "Mounted at /content/drive\n"
          ]
        }
      ],
      "source": [
        "# 드라이브 마운트\n",
        "from google.colab import drive\n",
        "drive.mount('/content/drive')"
      ]
    },
    {
      "cell_type": "code",
      "source": [
        "!pip install pycaret"
      ],
      "metadata": {
        "id": "KLsAYYXw97pW"
      },
      "execution_count": null,
      "outputs": []
    },
    {
      "cell_type": "code",
      "source": [
        "import random\n",
        "import pandas as pd\n",
        "import numpy as np\n",
        "import os\n",
        "import scipy\n",
        "import matplotlib.pyplot as plt\n",
        "import seaborn as sns\n",
        "\n",
        "from sklearn.decomposition import PCA\n",
        "from sklearn.preprocessing import MinMaxScaler,StandardScaler\n",
        "from sklearn.model_selection import train_test_split\n",
        "from sklearn.metrics import f1_score\n",
        "from sklearn.model_selection import KFold\n",
        "from pycaret.anomaly import *\n",
        "\n",
        "from pyod.models.abod import ABOD\n",
        "\n",
        "import warnings\n",
        "warnings.filterwarnings(action='ignore')"
      ],
      "metadata": {
        "id": "WrJXoGPI985p"
      },
      "execution_count": null,
      "outputs": []
    },
    {
      "cell_type": "code",
      "source": [
        "# Random Seed\n",
        "def seed_everything(seed):\n",
        "    random.seed(seed)\n",
        "    os.environ['PYTHONHASHSEED'] = str(seed)\n",
        "    np.random.seed(seed)"
      ],
      "metadata": {
        "id": "zLbRKmQ25JTt"
      },
      "execution_count": null,
      "outputs": []
    },
    {
      "cell_type": "code",
      "source": [
        "data_path = '/content/drive/MyDrive/Colab Notebooks/Air_Pressure'\n",
        "train = pd.read_csv(data_path+'/train_data.csv')\n",
        "test = pd.read_csv(data_path+'/test_data.csv')"
      ],
      "metadata": {
        "id": "F7PB0x7l9_rx"
      },
      "execution_count": null,
      "outputs": []
    },
    {
      "cell_type": "markdown",
      "source": [
        "## Pre-Processing"
      ],
      "metadata": {
        "id": "iIwEpbjl-D5F"
      }
    },
    {
      "cell_type": "code",
      "source": [
        "train.loc[train['type'] == 0, 'HP'] = 30\n",
        "train.loc[train['type'] == 1, 'HP'] = 20\n",
        "train.loc[train['type'] == 2, 'HP'] = 10\n",
        "train.loc[train['type'] == 3, 'HP'] = 50\n",
        "train.loc[train['type'] == 4, 'HP'] = 30\n",
        "train.loc[train['type'] == 5, 'HP'] = 30\n",
        "train.loc[train['type'] == 6, 'HP'] = 30\n",
        "train.loc[train['type'] == 7, 'HP'] = 30\n",
        "\n",
        "test.loc[test['type'] == 0, 'HP'] = 30\n",
        "test.loc[test['type'] == 1, 'HP'] = 20\n",
        "test.loc[test['type'] == 2, 'HP'] = 10\n",
        "test.loc[test['type'] == 3, 'HP'] = 50\n",
        "test.loc[test['type'] == 4, 'HP'] = 30\n",
        "test.loc[test['type'] == 5, 'HP'] = 30\n",
        "test.loc[test['type'] == 6, 'HP'] = 30\n",
        "test.loc[test['type'] == 7, 'HP'] = 30"
      ],
      "metadata": {
        "id": "Fi8YuqIj-E1i"
      },
      "execution_count": null,
      "outputs": []
    },
    {
      "cell_type": "code",
      "source": [
        "train['volt'] = ((1 / 0.746) * train['HP']) / train['motor_current']\n",
        "test['volt'] = ((1 / 0.746) * test['HP']) / test['motor_current']"
      ],
      "metadata": {
        "id": "tren5nd7-Fq8"
      },
      "execution_count": null,
      "outputs": []
    },
    {
      "cell_type": "code",
      "source": [
        "train['torque'] = train['HP'] / train['motor_rpm']\n",
        "test['torque'] = test['HP'] / test['motor_rpm']"
      ],
      "metadata": {
        "id": "AIjY7_iY-HNx"
      },
      "execution_count": null,
      "outputs": []
    },
    {
      "cell_type": "code",
      "source": [
        "train['각속도'] = ((1 / 0.746) * train['HP']) / train['torque']\n",
        "test['각속도'] = ((1 / 0.746) * test['HP']) / test['torque']"
      ],
      "metadata": {
        "id": "x2Frt7xy-IAb"
      },
      "execution_count": null,
      "outputs": []
    },
    {
      "cell_type": "code",
      "source": [
        "train['회전수/진동'] = train['motor_rpm'] / train['motor_vibe']\n",
        "test['회전수/진동'] = test['motor_rpm'] / test['motor_vibe']"
      ],
      "metadata": {
        "id": "J484H52N-Itq"
      },
      "execution_count": null,
      "outputs": []
    },
    {
      "cell_type": "code",
      "source": [
        "train['회전수/전류'] = train['motor_rpm'] / train['motor_current']\n",
        "test['회전수/전류'] = test['motor_rpm'] / test['motor_current']"
      ],
      "metadata": {
        "id": "cUWZV1KA-Jfm"
      },
      "execution_count": null,
      "outputs": []
    },
    {
      "cell_type": "code",
      "source": [
        "train['temp'] = train['air_end_temp'] + train['motor_temp']\n",
        "test['temp'] = test['air_end_temp'] + test['motor_temp']"
      ],
      "metadata": {
        "id": "5VAjfA05-KR2"
      },
      "execution_count": null,
      "outputs": []
    },
    {
      "cell_type": "code",
      "source": [
        "train['회전수/유량'] = train['motor_rpm'] / train['air_inflow']\n",
        "test['회전수/유량'] = test['motor_rpm'] / test['air_inflow']"
      ],
      "metadata": {
        "id": "BKucdGwa-LHd"
      },
      "execution_count": null,
      "outputs": []
    },
    {
      "cell_type": "code",
      "source": [
        "train['진동수/유량'] = train['motor_vibe'] / train['air_inflow']\n",
        "test['진동수/유량'] = test['motor_vibe'] / test['air_inflow']"
      ],
      "metadata": {
        "id": "z8cXYMue-LwU"
      },
      "execution_count": null,
      "outputs": []
    },
    {
      "cell_type": "code",
      "source": [
        "train['전류/진동수'] = train['motor_current'] / train['motor_vibe']\n",
        "test['전류/진동수'] = test['motor_current'] / test['motor_vibe']"
      ],
      "metadata": {
        "id": "PbIjqWie-Mi_"
      },
      "execution_count": null,
      "outputs": []
    },
    {
      "cell_type": "code",
      "source": [
        "train['주기'] = (1 / (60 * train['motor_rpm'])) * 100000\n",
        "test['주기'] = (1 / (60 * test['motor_rpm'])) * 100000"
      ],
      "metadata": {
        "id": "hvKKA1Bo-NNP"
      },
      "execution_count": null,
      "outputs": []
    },
    {
      "cell_type": "markdown",
      "source": [
        "## Train"
      ],
      "metadata": {
        "id": "uW7jjhKW-OWc"
      }
    },
    {
      "cell_type": "markdown",
      "source": [
        "### Seed Ensemble"
      ],
      "metadata": {
        "id": "py5eIpv344i8"
      }
    },
    {
      "cell_type": "code",
      "source": [
        "random_state = [900, 7756, 1056, 9725]"
      ],
      "metadata": {
        "id": "8KEcWeOA460p"
      },
      "execution_count": null,
      "outputs": []
    },
    {
      "cell_type": "code",
      "source": [
        "model_list=  []\n",
        "preds = []\n",
        "pred = []\n",
        "\n",
        "for i in random_state:\n",
        "  seed_everything(i) # Seed 고정\n",
        "\n",
        "  kf = KFold(n_splits=10)\n",
        "\n",
        "  for train_index, test_index in kf.split(train):\n",
        "      X_train, X_test = train.loc[train_index], train.loc[test_index]\n",
        "\n",
        "      anom = setup(data = X_train, verbose = 0, session_id = i, normalize = False)\n",
        "      model = create_model('abod')\n",
        "      model_list.append(model)\n",
        "\n",
        "  threshold = 0\n",
        "\n",
        "  for m in model_list:\n",
        "    predictions = predict_model(m, test)\n",
        "    preds.append(np.array(predictions['Anomaly']))\n",
        "\n",
        "  pred.append(1*(np.sum(preds,axis=0) >= len(model_list)))"
      ],
      "metadata": {
        "id": "qNLh0M8A5QKn"
      },
      "execution_count": null,
      "outputs": []
    },
    {
      "cell_type": "code",
      "source": [
        "pred"
      ],
      "metadata": {
        "colab": {
          "base_uri": "https://localhost:8080/"
        },
        "id": "URXj8EZm_O6e",
        "outputId": "9b2b0e19-af62-47cb-ab64-f0b499456d0a"
      },
      "execution_count": null,
      "outputs": [
        {
          "output_type": "execute_result",
          "data": {
            "text/plain": [
              "[array([0, 0, 0, ..., 0, 0, 0]),\n",
              " array([0, 0, 0, ..., 0, 0, 0]),\n",
              " array([0, 0, 0, ..., 0, 0, 0]),\n",
              " array([0, 0, 0, ..., 0, 0, 0])]"
            ]
          },
          "metadata": {},
          "execution_count": 50
        }
      ]
    },
    {
      "cell_type": "code",
      "source": [
        "ensemble = (pred[0] + pred[1] + pred[2] + pred[3]) // len(random_state)"
      ],
      "metadata": {
        "id": "7S8VRJDs_RoT"
      },
      "execution_count": null,
      "outputs": []
    },
    {
      "cell_type": "code",
      "source": [
        "list(ensemble).count(0), list(ensemble).count(1)"
      ],
      "metadata": {
        "colab": {
          "base_uri": "https://localhost:8080/"
        },
        "id": "uO96mbH_i-oj",
        "outputId": "166d1049-966b-44ba-ed6b-88fd662b04fa"
      },
      "execution_count": null,
      "outputs": [
        {
          "output_type": "execute_result",
          "data": {
            "text/plain": [
              "(7012, 377)"
            ]
          },
          "metadata": {},
          "execution_count": 53
        }
      ]
    },
    {
      "cell_type": "markdown",
      "source": [
        "## Submission"
      ],
      "metadata": {
        "id": "yzAnbr8G-UEd"
      }
    },
    {
      "cell_type": "code",
      "source": [
        "submit = pd.read_csv(data_path+'/answer_sample.csv')\n",
        "submit['label'] = ensemble\n",
        "submit.head()"
      ],
      "metadata": {
        "colab": {
          "base_uri": "https://localhost:8080/",
          "height": 206
        },
        "id": "3BH1mxFl-Ung",
        "outputId": "f7752d89-e85f-42fa-a2ce-b7c0707a704d"
      },
      "execution_count": null,
      "outputs": [
        {
          "output_type": "execute_result",
          "data": {
            "text/plain": [
              "   type  label\n",
              "0     0      0\n",
              "1     0      0\n",
              "2     0      0\n",
              "3     0      0\n",
              "4     0      0"
            ],
            "text/html": [
              "\n",
              "  <div id=\"df-f3e8aa64-22a7-4b75-99ba-1983076cab5f\">\n",
              "    <div class=\"colab-df-container\">\n",
              "      <div>\n",
              "<style scoped>\n",
              "    .dataframe tbody tr th:only-of-type {\n",
              "        vertical-align: middle;\n",
              "    }\n",
              "\n",
              "    .dataframe tbody tr th {\n",
              "        vertical-align: top;\n",
              "    }\n",
              "\n",
              "    .dataframe thead th {\n",
              "        text-align: right;\n",
              "    }\n",
              "</style>\n",
              "<table border=\"1\" class=\"dataframe\">\n",
              "  <thead>\n",
              "    <tr style=\"text-align: right;\">\n",
              "      <th></th>\n",
              "      <th>type</th>\n",
              "      <th>label</th>\n",
              "    </tr>\n",
              "  </thead>\n",
              "  <tbody>\n",
              "    <tr>\n",
              "      <th>0</th>\n",
              "      <td>0</td>\n",
              "      <td>0</td>\n",
              "    </tr>\n",
              "    <tr>\n",
              "      <th>1</th>\n",
              "      <td>0</td>\n",
              "      <td>0</td>\n",
              "    </tr>\n",
              "    <tr>\n",
              "      <th>2</th>\n",
              "      <td>0</td>\n",
              "      <td>0</td>\n",
              "    </tr>\n",
              "    <tr>\n",
              "      <th>3</th>\n",
              "      <td>0</td>\n",
              "      <td>0</td>\n",
              "    </tr>\n",
              "    <tr>\n",
              "      <th>4</th>\n",
              "      <td>0</td>\n",
              "      <td>0</td>\n",
              "    </tr>\n",
              "  </tbody>\n",
              "</table>\n",
              "</div>\n",
              "      <button class=\"colab-df-convert\" onclick=\"convertToInteractive('df-f3e8aa64-22a7-4b75-99ba-1983076cab5f')\"\n",
              "              title=\"Convert this dataframe to an interactive table.\"\n",
              "              style=\"display:none;\">\n",
              "        \n",
              "  <svg xmlns=\"http://www.w3.org/2000/svg\" height=\"24px\"viewBox=\"0 0 24 24\"\n",
              "       width=\"24px\">\n",
              "    <path d=\"M0 0h24v24H0V0z\" fill=\"none\"/>\n",
              "    <path d=\"M18.56 5.44l.94 2.06.94-2.06 2.06-.94-2.06-.94-.94-2.06-.94 2.06-2.06.94zm-11 1L8.5 8.5l.94-2.06 2.06-.94-2.06-.94L8.5 2.5l-.94 2.06-2.06.94zm10 10l.94 2.06.94-2.06 2.06-.94-2.06-.94-.94-2.06-.94 2.06-2.06.94z\"/><path d=\"M17.41 7.96l-1.37-1.37c-.4-.4-.92-.59-1.43-.59-.52 0-1.04.2-1.43.59L10.3 9.45l-7.72 7.72c-.78.78-.78 2.05 0 2.83L4 21.41c.39.39.9.59 1.41.59.51 0 1.02-.2 1.41-.59l7.78-7.78 2.81-2.81c.8-.78.8-2.07 0-2.86zM5.41 20L4 18.59l7.72-7.72 1.47 1.35L5.41 20z\"/>\n",
              "  </svg>\n",
              "      </button>\n",
              "      \n",
              "  <style>\n",
              "    .colab-df-container {\n",
              "      display:flex;\n",
              "      flex-wrap:wrap;\n",
              "      gap: 12px;\n",
              "    }\n",
              "\n",
              "    .colab-df-convert {\n",
              "      background-color: #E8F0FE;\n",
              "      border: none;\n",
              "      border-radius: 50%;\n",
              "      cursor: pointer;\n",
              "      display: none;\n",
              "      fill: #1967D2;\n",
              "      height: 32px;\n",
              "      padding: 0 0 0 0;\n",
              "      width: 32px;\n",
              "    }\n",
              "\n",
              "    .colab-df-convert:hover {\n",
              "      background-color: #E2EBFA;\n",
              "      box-shadow: 0px 1px 2px rgba(60, 64, 67, 0.3), 0px 1px 3px 1px rgba(60, 64, 67, 0.15);\n",
              "      fill: #174EA6;\n",
              "    }\n",
              "\n",
              "    [theme=dark] .colab-df-convert {\n",
              "      background-color: #3B4455;\n",
              "      fill: #D2E3FC;\n",
              "    }\n",
              "\n",
              "    [theme=dark] .colab-df-convert:hover {\n",
              "      background-color: #434B5C;\n",
              "      box-shadow: 0px 1px 3px 1px rgba(0, 0, 0, 0.15);\n",
              "      filter: drop-shadow(0px 1px 2px rgba(0, 0, 0, 0.3));\n",
              "      fill: #FFFFFF;\n",
              "    }\n",
              "  </style>\n",
              "\n",
              "      <script>\n",
              "        const buttonEl =\n",
              "          document.querySelector('#df-f3e8aa64-22a7-4b75-99ba-1983076cab5f button.colab-df-convert');\n",
              "        buttonEl.style.display =\n",
              "          google.colab.kernel.accessAllowed ? 'block' : 'none';\n",
              "\n",
              "        async function convertToInteractive(key) {\n",
              "          const element = document.querySelector('#df-f3e8aa64-22a7-4b75-99ba-1983076cab5f');\n",
              "          const dataTable =\n",
              "            await google.colab.kernel.invokeFunction('convertToInteractive',\n",
              "                                                     [key], {});\n",
              "          if (!dataTable) return;\n",
              "\n",
              "          const docLinkHtml = 'Like what you see? Visit the ' +\n",
              "            '<a target=\"_blank\" href=https://colab.research.google.com/notebooks/data_table.ipynb>data table notebook</a>'\n",
              "            + ' to learn more about interactive tables.';\n",
              "          element.innerHTML = '';\n",
              "          dataTable['output_type'] = 'display_data';\n",
              "          await google.colab.output.renderOutput(dataTable, element);\n",
              "          const docLink = document.createElement('div');\n",
              "          docLink.innerHTML = docLinkHtml;\n",
              "          element.appendChild(docLink);\n",
              "        }\n",
              "      </script>\n",
              "    </div>\n",
              "  </div>\n",
              "  "
            ]
          },
          "metadata": {},
          "execution_count": 56
        }
      ]
    },
    {
      "cell_type": "code",
      "source": [
        "submit.to_csv('/content/drive/MyDrive/Colab Notebooks/Air_Pressure/ABOD_hard_seed_7012_377.csv', index=False)"
      ],
      "metadata": {
        "id": "3tpH4nFx-Yak"
      },
      "execution_count": null,
      "outputs": []
    },
    {
      "cell_type": "code",
      "source": [],
      "metadata": {
        "id": "Mt3dcmxiCCNL"
      },
      "execution_count": null,
      "outputs": []
    }
  ]
}