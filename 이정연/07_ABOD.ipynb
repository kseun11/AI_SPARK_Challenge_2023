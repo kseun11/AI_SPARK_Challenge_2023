{
 "cells": [
  {
   "cell_type": "code",
   "execution_count": 57,
   "id": "98672786",
   "metadata": {},
   "outputs": [],
   "source": [
    "import random\n",
    "import pandas as pd\n",
    "import numpy as np\n",
    "import os\n",
    "from sklearn.preprocessing import MinMaxScaler\n",
    "\n",
    "from pyod.models.abod import ABOD\n",
    "\n",
    "from sklearn.metrics import f1_score\n",
    "\n",
    "import warnings\n",
    "warnings.filterwarnings(action='ignore')"
   ]
  },
  {
   "cell_type": "code",
   "execution_count": 58,
   "id": "14a3edc3",
   "metadata": {},
   "outputs": [],
   "source": [
    "# Random Seed\n",
    "def seed_everything(seed):\n",
    "    random.seed(seed)\n",
    "    os.environ['PYTHONHASHSEED'] = str(seed)\n",
    "    np.random.seed(seed)\n",
    "    \n",
    "seed_everything(69) # Seed 고정"
   ]
  },
  {
   "cell_type": "markdown",
   "id": "0036c3d9",
   "metadata": {},
   "source": [
    "## Data Load"
   ]
  },
  {
   "cell_type": "code",
   "execution_count": 59,
   "id": "1a78bb32",
   "metadata": {},
   "outputs": [],
   "source": [
    "train = pd.read_csv('./data/train_data.csv')\n",
    "test = pd.read_csv('./data/test_data.csv')"
   ]
  },
  {
   "cell_type": "markdown",
   "id": "bf6db382",
   "metadata": {},
   "source": [
    "## Pre-Processing"
   ]
  },
  {
   "cell_type": "markdown",
   "id": "0827a1cb",
   "metadata": {},
   "source": [
    "#### HP"
   ]
  },
  {
   "cell_type": "code",
   "execution_count": 60,
   "id": "f6a823e6",
   "metadata": {},
   "outputs": [],
   "source": [
    "train.loc[train['type'] == 0, 'HP'] = 30\n",
    "train.loc[train['type'] == 1, 'HP'] = 20\n",
    "train.loc[train['type'] == 2, 'HP'] = 10\n",
    "train.loc[train['type'] == 3, 'HP'] = 50\n",
    "train.loc[train['type'] == 4, 'HP'] = 30\n",
    "train.loc[train['type'] == 5, 'HP'] = 30\n",
    "train.loc[train['type'] == 6, 'HP'] = 30\n",
    "train.loc[train['type'] == 7, 'HP'] = 30\n",
    "\n",
    "test.loc[test['type'] == 0, 'HP'] = 30\n",
    "test.loc[test['type'] == 1, 'HP'] = 20\n",
    "test.loc[test['type'] == 2, 'HP'] = 10\n",
    "test.loc[test['type'] == 3, 'HP'] = 50\n",
    "test.loc[test['type'] == 4, 'HP'] = 30\n",
    "test.loc[test['type'] == 5, 'HP'] = 30\n",
    "test.loc[test['type'] == 6, 'HP'] = 30\n",
    "test.loc[test['type'] == 7, 'HP'] = 30"
   ]
  },
  {
   "cell_type": "markdown",
   "id": "b43f5dbd",
   "metadata": {},
   "source": [
    "#### kw"
   ]
  },
  {
   "cell_type": "code",
   "execution_count": 61,
   "id": "2defb7b5",
   "metadata": {},
   "outputs": [],
   "source": [
    "train['kw'] = train['HP'] * 0.746\n",
    "test['kw'] = test['HP'] * 0.746"
   ]
  },
  {
   "cell_type": "markdown",
   "id": "747c401e",
   "metadata": {},
   "source": [
    "#### V = P / A\n",
    "\n",
    "- kw/motor_current"
   ]
  },
  {
   "cell_type": "code",
   "execution_count": 62,
   "id": "6123aec9",
   "metadata": {},
   "outputs": [],
   "source": [
    "train['volt'] = train['kw'] / train['motor_current']\n",
    "test['volt'] = test['kw'] / test['motor_current']"
   ]
  },
  {
   "cell_type": "markdown",
   "id": "93041e51",
   "metadata": {},
   "source": [
    "#### 토르크 계산식\n",
    "- HP / rpm"
   ]
  },
  {
   "cell_type": "code",
   "execution_count": 63,
   "id": "fe8ed94d",
   "metadata": {},
   "outputs": [],
   "source": [
    "train['torque'] = train['HP'] / train['motor_rpm']\n",
    "test['torque'] = test['HP'] / test['motor_rpm']"
   ]
  },
  {
   "cell_type": "markdown",
   "id": "5a28989d",
   "metadata": {},
   "source": [
    "#### 회전수당 진돌"
   ]
  },
  {
   "cell_type": "code",
   "execution_count": 64,
   "id": "46d9f885",
   "metadata": {},
   "outputs": [],
   "source": [
    "train['회전수_진동'] = train['motor_rpm'] / train['motor_vibe']\n",
    "test['회전수_진동'] = test['motor_rpm'] / test['motor_vibe']"
   ]
  },
  {
   "cell_type": "markdown",
   "id": "252365ed",
   "metadata": {},
   "source": [
    "#### 회전수당 전류"
   ]
  },
  {
   "cell_type": "code",
   "execution_count": 65,
   "id": "ab02dd15",
   "metadata": {},
   "outputs": [],
   "source": [
    "train['회전수_전류'] = train['motor_rpm'] / train['motor_current']\n",
    "test['회전수_전류'] = test['motor_rpm'] / test['motor_current']"
   ]
  },
  {
   "cell_type": "markdown",
   "id": "b2ec79e8",
   "metadata": {},
   "source": [
    "## Train"
   ]
  },
  {
   "cell_type": "code",
   "execution_count": 66,
   "id": "b69e4f0b",
   "metadata": {},
   "outputs": [
    {
     "data": {
      "text/plain": [
       "ABOD(contamination=0.1, method='fast', n_neighbors=5)"
      ]
     },
     "execution_count": 66,
     "metadata": {},
     "output_type": "execute_result"
    }
   ],
   "source": [
    "angle = ABOD()\n",
    "angle.fit(train)"
   ]
  },
  {
   "cell_type": "markdown",
   "id": "a13702c8",
   "metadata": {},
   "source": [
    "## Predict"
   ]
  },
  {
   "cell_type": "code",
   "execution_count": 67,
   "id": "f006ca77",
   "metadata": {},
   "outputs": [],
   "source": [
    "pred_test = angle.predict(test)"
   ]
  },
  {
   "cell_type": "code",
   "execution_count": 68,
   "id": "a50366e1",
   "metadata": {},
   "outputs": [
    {
     "data": {
      "text/plain": [
       "(6507, 882)"
      ]
     },
     "execution_count": 68,
     "metadata": {},
     "output_type": "execute_result"
    }
   ],
   "source": [
    "# 정상 (0), 이상 (1)\n",
    "list(pred_test).count(0), list(pred_test).count(1)"
   ]
  },
  {
   "cell_type": "markdown",
   "id": "ea1a635a",
   "metadata": {},
   "source": [
    "## Submission"
   ]
  },
  {
   "cell_type": "code",
   "execution_count": 69,
   "id": "21b1e4f0",
   "metadata": {},
   "outputs": [],
   "source": [
    "submit = pd.read_csv('./data/answer_sample.csv')\n",
    "submit['label'] = pred_test\n",
    "submit.to_csv('./submit/ABOD_파생변수2.csv', index=False)"
   ]
  },
  {
   "cell_type": "code",
   "execution_count": null,
   "id": "730cd407",
   "metadata": {},
   "outputs": [],
   "source": []
  }
 ],
 "metadata": {
  "kernelspec": {
   "display_name": "Python 3 (ipykernel)",
   "language": "python",
   "name": "python3"
  },
  "language_info": {
   "codemirror_mode": {
    "name": "ipython",
    "version": 3
   },
   "file_extension": ".py",
   "mimetype": "text/x-python",
   "name": "python",
   "nbconvert_exporter": "python",
   "pygments_lexer": "ipython3",
   "version": "3.9.13"
  }
 },
 "nbformat": 4,
 "nbformat_minor": 5
}
