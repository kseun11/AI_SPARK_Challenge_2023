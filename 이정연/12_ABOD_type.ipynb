{
 "cells": [
  {
   "cell_type": "code",
   "execution_count": 1,
   "id": "98672786",
   "metadata": {},
   "outputs": [],
   "source": [
    "import random\n",
    "import pandas as pd\n",
    "import numpy as np\n",
    "import os\n",
    "from sklearn.preprocessing import MinMaxScaler\n",
    "\n",
    "from pyod.models.abod import ABOD\n",
    "\n",
    "from sklearn.metrics import f1_score\n",
    "\n",
    "import warnings\n",
    "warnings.filterwarnings(action='ignore')"
   ]
  },
  {
   "cell_type": "code",
   "execution_count": 2,
   "id": "14a3edc3",
   "metadata": {},
   "outputs": [],
   "source": [
    "# Random Seed\n",
    "def seed_everything(seed):\n",
    "    random.seed(seed)\n",
    "    os.environ['PYTHONHASHSEED'] = str(seed)\n",
    "    np.random.seed(seed)\n",
    "    \n",
    "seed_everything(69) # Seed 고정"
   ]
  },
  {
   "cell_type": "markdown",
   "id": "0036c3d9",
   "metadata": {},
   "source": [
    "## Data Load"
   ]
  },
  {
   "cell_type": "code",
   "execution_count": 3,
   "id": "1a78bb32",
   "metadata": {},
   "outputs": [],
   "source": [
    "train = pd.read_csv('./data/train_data.csv')\n",
    "test = pd.read_csv('./data/test_data.csv')"
   ]
  },
  {
   "cell_type": "markdown",
   "id": "bf6db382",
   "metadata": {},
   "source": [
    "## Pre-Processing"
   ]
  },
  {
   "cell_type": "markdown",
   "id": "6f9e5f2f",
   "metadata": {},
   "source": [
    "#### HP"
   ]
  },
  {
   "cell_type": "code",
   "execution_count": 4,
   "id": "de0d1a64",
   "metadata": {},
   "outputs": [],
   "source": [
    "train.loc[train['type'] == 0, 'HP'] = 30\n",
    "train.loc[train['type'] == 1, 'HP'] = 20\n",
    "train.loc[train['type'] == 2, 'HP'] = 10\n",
    "train.loc[train['type'] == 3, 'HP'] = 50\n",
    "train.loc[train['type'] == 4, 'HP'] = 30\n",
    "train.loc[train['type'] == 5, 'HP'] = 30\n",
    "train.loc[train['type'] == 6, 'HP'] = 30\n",
    "train.loc[train['type'] == 7, 'HP'] = 30\n",
    "\n",
    "test.loc[test['type'] == 0, 'HP'] = 30\n",
    "test.loc[test['type'] == 1, 'HP'] = 20\n",
    "test.loc[test['type'] == 2, 'HP'] = 10\n",
    "test.loc[test['type'] == 3, 'HP'] = 50\n",
    "test.loc[test['type'] == 4, 'HP'] = 30\n",
    "test.loc[test['type'] == 5, 'HP'] = 30\n",
    "test.loc[test['type'] == 6, 'HP'] = 30\n",
    "test.loc[test['type'] == 7, 'HP'] = 30"
   ]
  },
  {
   "cell_type": "code",
   "execution_count": 5,
   "id": "6e8251fb",
   "metadata": {},
   "outputs": [],
   "source": [
    "train['volt'] = ((1 / 0.746) * train['HP']) / train['motor_current']\n",
    "test['volt'] = ((1 / 0.746) * test['HP']) / test['motor_current']"
   ]
  },
  {
   "cell_type": "code",
   "execution_count": 6,
   "id": "41dae97d",
   "metadata": {},
   "outputs": [],
   "source": [
    "train['torque'] = train['HP'] / train['motor_rpm']\n",
    "test['torque'] = test['HP'] / test['motor_rpm']"
   ]
  },
  {
   "cell_type": "code",
   "execution_count": 7,
   "id": "2989b407",
   "metadata": {},
   "outputs": [],
   "source": [
    "train['각속도'] = ((1 / 0.746) * train['HP']) / train['torque']\n",
    "test['각속도'] = ((1 / 0.746) * test['HP']) / test['torque']"
   ]
  },
  {
   "cell_type": "code",
   "execution_count": 8,
   "id": "94b723fd",
   "metadata": {},
   "outputs": [],
   "source": [
    "train['회전수_진동'] = train['motor_rpm'] / train['motor_vibe']\n",
    "test['회전수_진동'] = test['motor_rpm'] / test['motor_vibe']"
   ]
  },
  {
   "cell_type": "code",
   "execution_count": 9,
   "id": "8482358a",
   "metadata": {},
   "outputs": [],
   "source": [
    "train['회전수_전류'] = train['motor_rpm'] / train['motor_current']\n",
    "test['회전수_전류'] = test['motor_rpm'] / test['motor_current']"
   ]
  },
  {
   "cell_type": "code",
   "execution_count": 10,
   "id": "5e4c24b3",
   "metadata": {},
   "outputs": [],
   "source": [
    "train['temp'] = train['air_end_temp'] + train['motor_temp']\n",
    "test['temp'] = test['air_end_temp'] + test['motor_temp']"
   ]
  },
  {
   "cell_type": "code",
   "execution_count": 11,
   "id": "7bfee5eb",
   "metadata": {},
   "outputs": [],
   "source": [
    "train['회전수/유량'] = train['motor_rpm'] / train['air_inflow']\n",
    "test['회전수/유량'] = test['motor_rpm'] / test['air_inflow']"
   ]
  },
  {
   "cell_type": "code",
   "execution_count": 12,
   "id": "fc5c69e0",
   "metadata": {},
   "outputs": [],
   "source": [
    "train['진동수/유량'] = train['motor_vibe'] / train['air_inflow']\n",
    "test['진동수/유량'] = test['motor_vibe'] / test['air_inflow']"
   ]
  },
  {
   "cell_type": "code",
   "execution_count": 13,
   "id": "176796ae",
   "metadata": {},
   "outputs": [],
   "source": [
    "train['전류/진동수'] = train['motor_current'] / train['motor_vibe']\n",
    "test['전류/진동수'] = test['motor_current'] / test['motor_vibe']"
   ]
  },
  {
   "cell_type": "code",
   "execution_count": 14,
   "id": "a35c3759",
   "metadata": {},
   "outputs": [],
   "source": [
    "train['주기'] = (1 / (60 * train['motor_rpm'])) * 100000\n",
    "test['주기'] = (1 / (60 * test['motor_rpm'])) * 100000"
   ]
  },
  {
   "cell_type": "markdown",
   "id": "d4b43418",
   "metadata": {},
   "source": [
    "## 모델 분할"
   ]
  },
  {
   "cell_type": "markdown",
   "id": "3b506676",
   "metadata": {},
   "source": [
    "#### train"
   ]
  },
  {
   "cell_type": "code",
   "execution_count": 15,
   "id": "19e8927c",
   "metadata": {},
   "outputs": [
    {
     "name": "stdout",
     "output_type": "stream",
     "text": [
      "[432, 801, 1167, 1473, 1779, 2028, 2277, 2463]\n"
     ]
    }
   ],
   "source": [
    "idx = 0\n",
    "train_idx = []\n",
    "for i in range(8):\n",
    "    idx += len(pd.DataFrame(train.loc[train['type'] == i]))\n",
    "    train_idx.append(idx)\n",
    "\n",
    "print(train_idx)"
   ]
  },
  {
   "cell_type": "code",
   "execution_count": 16,
   "id": "34063044",
   "metadata": {},
   "outputs": [],
   "source": [
    "train_0 = train[0:train_idx[0]]\n",
    "train_1 = train[train_idx[0]:train_idx[1]]\n",
    "train_2 = train[train_idx[1]:train_idx[2]]\n",
    "train_3 = train[train_idx[2]:train_idx[3]]\n",
    "train_4 = train[train_idx[3]:train_idx[4]]\n",
    "train_5 = train[train_idx[4]:train_idx[5]]\n",
    "train_6 = train[train_idx[5]:train_idx[6]]\n",
    "train_7 = train[train_idx[6]:train_idx[7]]"
   ]
  },
  {
   "cell_type": "markdown",
   "id": "f1338f41",
   "metadata": {},
   "source": [
    "#### test"
   ]
  },
  {
   "cell_type": "code",
   "execution_count": 17,
   "id": "ee06284c",
   "metadata": {},
   "outputs": [
    {
     "name": "stdout",
     "output_type": "stream",
     "text": [
      "[1296, 2403, 3501, 4419, 5337, 6084, 6831, 7389]\n"
     ]
    }
   ],
   "source": [
    "idx = 0\n",
    "test_idx = []\n",
    "for i in range(8):\n",
    "    idx += len(pd.DataFrame(test.loc[test['type'] == i]))\n",
    "    test_idx.append(idx)\n",
    "    \n",
    "print(test_idx)"
   ]
  },
  {
   "cell_type": "code",
   "execution_count": 18,
   "id": "1bc59376",
   "metadata": {},
   "outputs": [],
   "source": [
    "test_0 = test[0:test_idx[0]]\n",
    "test_1 = test[test_idx[0]:test_idx[1]]\n",
    "test_2 = test[test_idx[1]:test_idx[2]]\n",
    "test_3 = test[test_idx[2]:test_idx[3]]\n",
    "test_4 = test[test_idx[3]:test_idx[4]]\n",
    "test_5 = test[test_idx[4]:test_idx[5]]\n",
    "test_6 = test[test_idx[5]:test_idx[6]]\n",
    "test_7 = test[test_idx[6]:test_idx[7]]"
   ]
  },
  {
   "cell_type": "markdown",
   "id": "b2ec79e8",
   "metadata": {},
   "source": [
    "## Train, Predict"
   ]
  },
  {
   "cell_type": "code",
   "execution_count": 19,
   "id": "c99e3ae6",
   "metadata": {},
   "outputs": [],
   "source": [
    "def train(train, test):\n",
    "    model = ABOD(contamination=0.1, method='fast', n_neighbors=8)\n",
    "    model.fit(train)\n",
    "    model_pred = model.predict(test)\n",
    "    \n",
    "    # ISO\n",
    "    model_pred = np.where(model_pred == -1, 0, model_pred)\n",
    "    model_pred = np.where(model_pred == 1, 1, model_pred)\n",
    "    \n",
    "    return model_pred"
   ]
  },
  {
   "cell_type": "code",
   "execution_count": 20,
   "id": "bdfe8e01",
   "metadata": {},
   "outputs": [],
   "source": [
    "pred_0 = train(train_0, test_0)\n",
    "pred_1 = train(train_1, test_1)\n",
    "pred_2 = train(train_2, test_2)\n",
    "pred_3 = train(train_3, test_3)\n",
    "pred_4 = train(train_4, test_4)\n",
    "pred_5 = train(train_5, test_5)\n",
    "pred_6 = train(train_6, test_6)\n",
    "pred_7 = train(train_7, test_7)"
   ]
  },
  {
   "cell_type": "code",
   "execution_count": 21,
   "id": "f5626ad7",
   "metadata": {},
   "outputs": [
    {
     "data": {
      "text/plain": [
       "7389"
      ]
     },
     "execution_count": 21,
     "metadata": {},
     "output_type": "execute_result"
    }
   ],
   "source": [
    "pred = list(pred_0) + list(pred_1) + list(pred_2) + list(pred_3) + list(pred_4) + list(pred_5) + list(pred_6) + list(pred_7)\n",
    "len(pred)"
   ]
  },
  {
   "cell_type": "code",
   "execution_count": 22,
   "id": "e09ac939",
   "metadata": {},
   "outputs": [
    {
     "data": {
      "text/plain": [
       "(6510, 879)"
      ]
     },
     "execution_count": 22,
     "metadata": {},
     "output_type": "execute_result"
    }
   ],
   "source": [
    "# 정상 (0), 이상 (1)\n",
    "list(pred).count(0), list(pred).count(1)"
   ]
  },
  {
   "cell_type": "markdown",
   "id": "ea1a635a",
   "metadata": {},
   "source": [
    "## Submission"
   ]
  },
  {
   "cell_type": "code",
   "execution_count": 23,
   "id": "21b1e4f0",
   "metadata": {},
   "outputs": [],
   "source": [
    "submit = pd.read_csv('./data/answer_sample.csv')"
   ]
  },
  {
   "cell_type": "code",
   "execution_count": 24,
   "id": "5fdea970",
   "metadata": {},
   "outputs": [
    {
     "data": {
      "text/html": [
       "<div>\n",
       "<style scoped>\n",
       "    .dataframe tbody tr th:only-of-type {\n",
       "        vertical-align: middle;\n",
       "    }\n",
       "\n",
       "    .dataframe tbody tr th {\n",
       "        vertical-align: top;\n",
       "    }\n",
       "\n",
       "    .dataframe thead th {\n",
       "        text-align: right;\n",
       "    }\n",
       "</style>\n",
       "<table border=\"1\" class=\"dataframe\">\n",
       "  <thead>\n",
       "    <tr style=\"text-align: right;\">\n",
       "      <th></th>\n",
       "      <th>type</th>\n",
       "      <th>label</th>\n",
       "    </tr>\n",
       "  </thead>\n",
       "  <tbody>\n",
       "    <tr>\n",
       "      <th>0</th>\n",
       "      <td>0</td>\n",
       "      <td>0</td>\n",
       "    </tr>\n",
       "    <tr>\n",
       "      <th>1</th>\n",
       "      <td>0</td>\n",
       "      <td>0</td>\n",
       "    </tr>\n",
       "    <tr>\n",
       "      <th>2</th>\n",
       "      <td>0</td>\n",
       "      <td>0</td>\n",
       "    </tr>\n",
       "    <tr>\n",
       "      <th>3</th>\n",
       "      <td>0</td>\n",
       "      <td>0</td>\n",
       "    </tr>\n",
       "    <tr>\n",
       "      <th>4</th>\n",
       "      <td>0</td>\n",
       "      <td>0</td>\n",
       "    </tr>\n",
       "  </tbody>\n",
       "</table>\n",
       "</div>"
      ],
      "text/plain": [
       "   type  label\n",
       "0     0      0\n",
       "1     0      0\n",
       "2     0      0\n",
       "3     0      0\n",
       "4     0      0"
      ]
     },
     "execution_count": 24,
     "metadata": {},
     "output_type": "execute_result"
    }
   ],
   "source": [
    "submit['label'] = pred\n",
    "submit.head()"
   ]
  },
  {
   "cell_type": "code",
   "execution_count": 25,
   "id": "caf88784",
   "metadata": {},
   "outputs": [],
   "source": [
    "submit.to_csv('./submit/ABOD_8.csv', index=False)"
   ]
  },
  {
   "cell_type": "code",
   "execution_count": null,
   "id": "0bd2315c",
   "metadata": {},
   "outputs": [],
   "source": []
  }
 ],
 "metadata": {
  "kernelspec": {
   "display_name": "Python 3 (ipykernel)",
   "language": "python",
   "name": "python3"
  },
  "language_info": {
   "codemirror_mode": {
    "name": "ipython",
    "version": 3
   },
   "file_extension": ".py",
   "mimetype": "text/x-python",
   "name": "python",
   "nbconvert_exporter": "python",
   "pygments_lexer": "ipython3",
   "version": "3.9.13"
  }
 },
 "nbformat": 4,
 "nbformat_minor": 5
}
