{
 "cells": [
  {
   "cell_type": "code",
   "execution_count": 1,
   "id": "75fe40ee",
   "metadata": {},
   "outputs": [
    {
     "name": "stdout",
     "output_type": "stream",
     "text": [
      "Collecting torchsummary\n",
      "  Downloading torchsummary-1.5.1-py3-none-any.whl (2.8 kB)\n",
      "Installing collected packages: torchsummary\n",
      "Successfully installed torchsummary-1.5.1\n"
     ]
    },
    {
     "name": "stderr",
     "output_type": "stream",
     "text": [
      "\n",
      "[notice] A new release of pip is available: 23.0 -> 23.0.1\n",
      "[notice] To update, run: python.exe -m pip install --upgrade pip\n"
     ]
    }
   ],
   "source": [
    "# !pip install torchsummary"
   ]
  },
  {
   "cell_type": "code",
   "execution_count": 225,
   "id": "98672786",
   "metadata": {},
   "outputs": [],
   "source": [
    "import random\n",
    "import pandas as pd\n",
    "import numpy as np\n",
    "import os\n",
    "import time\n",
    "from tqdm.auto import tqdm\n",
    "from collections import Counter\n",
    "\n",
    "import torch\n",
    "import torch.nn as nn\n",
    "import torch.nn.functional as F\n",
    "from torch.utils.data import Dataset, DataLoader\n",
    "from torchsummary import summary\n",
    "from torch import optim\n",
    "\n",
    "from sklearn.metrics import f1_score\n",
    "\n",
    "import warnings\n",
    "warnings.filterwarnings(action='ignore')"
   ]
  },
  {
   "cell_type": "code",
   "execution_count": 226,
   "id": "14a3edc3",
   "metadata": {},
   "outputs": [],
   "source": [
    "# Random Seed\n",
    "def seed_everything(seed):\n",
    "    random.seed(seed)\n",
    "    os.environ['PYTHONHASHSEED'] = str(seed)\n",
    "    np.random.seed(seed)\n",
    "    \n",
    "seed_everything(69) # Seed 고정"
   ]
  },
  {
   "cell_type": "code",
   "execution_count": 227,
   "id": "4959194f",
   "metadata": {},
   "outputs": [],
   "source": [
    "GPU_NUM = 0 # 원하는 GPU 번호 입력\n",
    "device = torch.device(f'cuda:{GPU_NUM}' if torch.cuda.is_available() else 'cpu')"
   ]
  },
  {
   "cell_type": "markdown",
   "id": "0036c3d9",
   "metadata": {},
   "source": [
    "## Data Load"
   ]
  },
  {
   "cell_type": "code",
   "execution_count": 248,
   "id": "1a78bb32",
   "metadata": {},
   "outputs": [],
   "source": [
    "train = pd.read_csv('./data/train_data.csv')\n",
    "test = pd.read_csv('./data/test_data.csv')"
   ]
  },
  {
   "cell_type": "markdown",
   "id": "62ae5348",
   "metadata": {},
   "source": [
    "## EDA"
   ]
  },
  {
   "cell_type": "code",
   "execution_count": null,
   "id": "5f9c7945",
   "metadata": {},
   "outputs": [],
   "source": []
  },
  {
   "cell_type": "markdown",
   "id": "bf6db382",
   "metadata": {},
   "source": [
    "## Pre-Processing"
   ]
  },
  {
   "cell_type": "markdown",
   "id": "c54a8f34",
   "metadata": {},
   "source": [
    "#### One Hot Encoding"
   ]
  },
  {
   "cell_type": "code",
   "execution_count": 249,
   "id": "3837858c",
   "metadata": {},
   "outputs": [],
   "source": [
    "# int -> str\n",
    "train['type'] = train['type'].astype(str)\n",
    "test['type'] = test['type'].astype(str)"
   ]
  },
  {
   "cell_type": "code",
   "execution_count": 250,
   "id": "29441dbf",
   "metadata": {},
   "outputs": [],
   "source": [
    "train = pd.get_dummies(train)\n",
    "test = pd.get_dummies(test)"
   ]
  },
  {
   "cell_type": "code",
   "execution_count": 251,
   "id": "d96b22eb",
   "metadata": {},
   "outputs": [
    {
     "data": {
      "text/plain": [
       "(2463, 15)"
      ]
     },
     "execution_count": 251,
     "metadata": {},
     "output_type": "execute_result"
    }
   ],
   "source": [
    "train.shape"
   ]
  },
  {
   "cell_type": "markdown",
   "id": "33b6e93d",
   "metadata": {},
   "source": [
    "#### Drop columns"
   ]
  },
  {
   "cell_type": "code",
   "execution_count": 252,
   "id": "fd7b0341",
   "metadata": {},
   "outputs": [],
   "source": [
    "# train.drop('out_pressure', axis=1, inplace=True)\n",
    "# test.drop('out_pressure', axis=1, inplace=True)"
   ]
  },
  {
   "cell_type": "markdown",
   "id": "b2ec79e8",
   "metadata": {},
   "source": [
    "## Train"
   ]
  },
  {
   "cell_type": "code",
   "execution_count": 253,
   "id": "747699c0",
   "metadata": {},
   "outputs": [],
   "source": [
    "CFG = {\n",
    "    'SR':16000,\n",
    "    'EPOCHS': 100,\n",
    "    'batch_size': 64,\n",
    "    'learning_rate': 4e-4,\n",
    "    'weight_decay': 1e-4,\n",
    "}"
   ]
  },
  {
   "cell_type": "code",
   "execution_count": 267,
   "id": "d3e973ad",
   "metadata": {},
   "outputs": [],
   "source": [
    "# 데이터셋 정의\n",
    "class CustomDataset(Dataset):\n",
    "    def __init__(self, data):\n",
    "        self.x = np.array(data)\n",
    "        \n",
    "    def __getitem__(self, idx):\n",
    "        x = torch.FloatTensor(self.x[idx])\n",
    "        return x\n",
    "        \n",
    "    def __len__(self):\n",
    "        return len(self.x)\n",
    "\n",
    "# dataset\n",
    "train_dataset = CustomDataset(train)\n",
    "test_dataset = CustomDataset(test)\n",
    "\n",
    "# dataloader\n",
    "train_loader = DataLoader(dataset=train_dataset, batch_size=CFG['batch_size'], shuffle=True)\n",
    "test_loader = DataLoader(dataset=test_dataset, batch_size=CFG['batch_size'], shuffle=False)"
   ]
  },
  {
   "cell_type": "code",
   "execution_count": 255,
   "id": "c04f21c0",
   "metadata": {},
   "outputs": [
    {
     "data": {
      "text/plain": [
       "(2463, 15)"
      ]
     },
     "execution_count": 255,
     "metadata": {},
     "output_type": "execute_result"
    }
   ],
   "source": [
    "train.shape"
   ]
  },
  {
   "cell_type": "code",
   "execution_count": 256,
   "id": "3623be1c",
   "metadata": {},
   "outputs": [],
   "source": [
    "# 모델 정의\n",
    "class AutoEncoder(nn.Module):\n",
    "    def __init__(self):\n",
    "        super(AutoEncoder, self).__init__()\n",
    "        \n",
    "        # encoder\n",
    "        self.encoder = nn.Sequential(\n",
    "            nn.Linear(15, 64),\n",
    "            nn.ReLU(),\n",
    "            nn.Linear(64, 32),\n",
    "            nn.ReLU(),\n",
    "            nn.Linear(32, 16),\n",
    "            nn.ReLU(),\n",
    "            nn.Linear(16, 7),\n",
    "            nn.ReLU(),\n",
    "            nn.Linear(7, 3),\n",
    "            nn.ReLU(),\n",
    "            nn.Linear(3, 1),\n",
    "            nn.ReLU(),\n",
    "        )\n",
    "        \n",
    "        # decoder\n",
    "        self.decoder = nn.Sequential(\n",
    "            nn.Linear(1, 3),\n",
    "            nn.ReLU(),\n",
    "            nn.Linear(3, 7),\n",
    "            nn.ReLU(),\n",
    "            nn.Linear(7, 16),\n",
    "            nn.ReLU(),\n",
    "            nn.Linear(16, 32),\n",
    "            nn.ReLU(),\n",
    "            nn.Linear(32, 64),\n",
    "            nn.ReLU(),\n",
    "            nn.Linear(64, 15),\n",
    "            nn.ReLU(),\n",
    "        )\n",
    "        \n",
    "    def forward(self, x):\n",
    "        \n",
    "        encoded = self.encoder(x)\n",
    "        decoded = self.decoder(encoded)\n",
    "        \n",
    "        return encoded, decoded"
   ]
  },
  {
   "cell_type": "code",
   "execution_count": 257,
   "id": "b41ed711",
   "metadata": {},
   "outputs": [],
   "source": [
    "model = AutoEncoder().to(device)\n",
    "loss_func = nn.MSELoss()\n",
    "optimizer = optim.Adam(model.parameters(), lr=CFG['learning_rate'], weight_decay = CFG['weight_decay'])\n",
    "# summary(model, [(1,2463)] )"
   ]
  },
  {
   "cell_type": "code",
   "execution_count": 258,
   "id": "481f90b0",
   "metadata": {},
   "outputs": [],
   "source": [
    "# train\n",
    "def training(model, train_loader, optimizer):\n",
    "    \n",
    "    model.train()\n",
    "    \n",
    "    running_loss = 0.0\n",
    "    len_data = len(train_loader.dataset)\n",
    "\n",
    "    for x in train_loader:\n",
    "        x = x.to(device)\n",
    "        \n",
    "        encoded, decoded = model(x)\n",
    "#         loss = loss_func(x, decoded)\n",
    "        loss = loss_func(x, decoded)\n",
    "        \n",
    "        optimizer.zero_grad()\n",
    "        loss.backward()\n",
    "        optimizer.step()\n",
    "        \n",
    "        running_loss += loss.item()\n",
    "    \n",
    "    return running_loss/len_data"
   ]
  },
  {
   "cell_type": "code",
   "execution_count": 259,
   "id": "b0495353",
   "metadata": {},
   "outputs": [
    {
     "name": "stdout",
     "output_type": "stream",
     "text": [
      "Epoch 1/100\n",
      "train loss: 6448.405907, time: 0.0026 min\n",
      "----------\n",
      "Epoch 2/100\n",
      "train loss: 6448.461213, time: 0.0055 min\n",
      "----------\n",
      "Epoch 3/100\n",
      "train loss: 6437.585325, time: 0.0084 min\n",
      "----------\n",
      "Epoch 4/100\n",
      "train loss: 6431.513639, time: 0.0115 min\n",
      "----------\n",
      "Epoch 5/100\n",
      "train loss: 6393.254859, time: 0.0141 min\n",
      "----------\n",
      "Epoch 6/100\n",
      "train loss: 6327.265492, time: 0.0165 min\n",
      "----------\n",
      "Epoch 7/100\n",
      "train loss: 6179.946965, time: 0.0199 min\n",
      "----------\n",
      "Epoch 8/100\n",
      "train loss: 5875.816522, time: 0.0241 min\n",
      "----------\n",
      "Epoch 9/100\n",
      "train loss: 5364.982998, time: 0.0265 min\n",
      "----------\n",
      "Epoch 10/100\n",
      "train loss: 4526.201247, time: 0.0291 min\n",
      "----------\n",
      "Epoch 11/100\n",
      "train loss: 3371.982694, time: 0.0322 min\n",
      "----------\n",
      "Epoch 12/100\n",
      "train loss: 2089.282151, time: 0.0351 min\n",
      "----------\n",
      "Epoch 13/100\n",
      "train loss: 1072.436417, time: 0.0382 min\n",
      "----------\n",
      "Epoch 14/100\n",
      "train loss: 605.326833, time: 0.0405 min\n",
      "----------\n",
      "Epoch 15/100\n",
      "train loss: 510.344335, time: 0.0437 min\n",
      "----------\n",
      "Epoch 16/100\n",
      "train loss: 497.778177, time: 0.0466 min\n",
      "----------\n",
      "Epoch 17/100\n",
      "train loss: 498.075444, time: 0.0495 min\n",
      "----------\n",
      "Epoch 18/100\n",
      "train loss: 500.129580, time: 0.0522 min\n",
      "----------\n",
      "Epoch 19/100\n",
      "train loss: 499.035577, time: 0.0554 min\n",
      "----------\n",
      "Epoch 20/100\n",
      "train loss: 500.475436, time: 0.0585 min\n",
      "----------\n",
      "Epoch 21/100\n",
      "train loss: 500.253655, time: 0.0609 min\n",
      "----------\n",
      "Epoch 22/100\n",
      "train loss: 498.192155, time: 0.0638 min\n",
      "----------\n",
      "Epoch 23/100\n",
      "train loss: 500.471238, time: 0.0664 min\n",
      "----------\n",
      "Epoch 24/100\n",
      "train loss: 502.285773, time: 0.0694 min\n",
      "----------\n",
      "Epoch 25/100\n",
      "train loss: 499.980259, time: 0.0726 min\n",
      "----------\n",
      "Epoch 26/100\n",
      "train loss: 498.714938, time: 0.0763 min\n",
      "----------\n",
      "Epoch 27/100\n",
      "train loss: 500.281455, time: 0.0790 min\n",
      "----------\n",
      "Epoch 28/100\n",
      "train loss: 498.863334, time: 0.0826 min\n",
      "----------\n",
      "Epoch 29/100\n",
      "train loss: 500.307768, time: 0.0851 min\n",
      "----------\n",
      "Epoch 30/100\n",
      "train loss: 499.571987, time: 0.0875 min\n",
      "----------\n",
      "Epoch 31/100\n",
      "train loss: 499.153492, time: 0.0900 min\n",
      "----------\n",
      "Epoch 32/100\n",
      "train loss: 500.172765, time: 0.0931 min\n",
      "----------\n",
      "Epoch 33/100\n",
      "train loss: 501.262641, time: 0.0955 min\n",
      "----------\n",
      "Epoch 34/100\n",
      "train loss: 501.036678, time: 0.0981 min\n",
      "----------\n",
      "Epoch 35/100\n",
      "train loss: 499.700485, time: 0.1018 min\n",
      "----------\n",
      "Epoch 36/100\n",
      "train loss: 498.380074, time: 0.1045 min\n",
      "----------\n",
      "Epoch 37/100\n",
      "train loss: 499.637142, time: 0.1079 min\n",
      "----------\n",
      "Epoch 38/100\n",
      "train loss: 498.184825, time: 0.1114 min\n",
      "----------\n",
      "Epoch 39/100\n",
      "train loss: 499.259238, time: 0.1142 min\n",
      "----------\n",
      "Epoch 40/100\n",
      "train loss: 498.992318, time: 0.1171 min\n",
      "----------\n",
      "Epoch 41/100\n",
      "train loss: 499.008104, time: 0.1211 min\n",
      "----------\n",
      "Epoch 42/100\n",
      "train loss: 499.427997, time: 0.1242 min\n",
      "----------\n",
      "Epoch 43/100\n",
      "train loss: 502.438996, time: 0.1282 min\n",
      "----------\n",
      "Epoch 44/100\n",
      "train loss: 499.592690, time: 0.1314 min\n",
      "----------\n",
      "Epoch 45/100\n",
      "train loss: 499.946696, time: 0.1345 min\n",
      "----------\n",
      "Epoch 46/100\n",
      "train loss: 497.664948, time: 0.1378 min\n",
      "----------\n",
      "Epoch 47/100\n",
      "train loss: 500.210187, time: 0.1411 min\n",
      "----------\n",
      "Epoch 48/100\n",
      "train loss: 499.833304, time: 0.1451 min\n",
      "----------\n",
      "Epoch 49/100\n",
      "train loss: 499.881789, time: 0.1479 min\n",
      "----------\n",
      "Epoch 50/100\n",
      "train loss: 502.154764, time: 0.1534 min\n",
      "----------\n",
      "Epoch 51/100\n",
      "train loss: 499.796027, time: 0.1577 min\n",
      "----------\n",
      "Epoch 52/100\n",
      "train loss: 501.423536, time: 0.1610 min\n",
      "----------\n",
      "Epoch 53/100\n",
      "train loss: 500.447723, time: 0.1649 min\n",
      "----------\n",
      "Epoch 54/100\n",
      "train loss: 497.977346, time: 0.1680 min\n",
      "----------\n",
      "Epoch 55/100\n",
      "train loss: 499.432275, time: 0.1720 min\n",
      "----------\n",
      "Epoch 56/100\n",
      "train loss: 500.797950, time: 0.1753 min\n",
      "----------\n",
      "Epoch 57/100\n",
      "train loss: 500.577296, time: 0.1788 min\n",
      "----------\n",
      "Epoch 58/100\n",
      "train loss: 500.054993, time: 0.1819 min\n",
      "----------\n",
      "Epoch 59/100\n",
      "train loss: 501.930919, time: 0.1856 min\n",
      "----------\n",
      "Epoch 60/100\n",
      "train loss: 501.298206, time: 0.1893 min\n",
      "----------\n",
      "Epoch 61/100\n",
      "train loss: 502.258188, time: 0.1929 min\n",
      "----------\n",
      "Epoch 62/100\n",
      "train loss: 501.788204, time: 0.1964 min\n",
      "----------\n",
      "Epoch 63/100\n",
      "train loss: 498.537798, time: 0.2023 min\n",
      "----------\n",
      "Epoch 64/100\n",
      "train loss: 499.947158, time: 0.2052 min\n",
      "----------\n",
      "Epoch 65/100\n",
      "train loss: 500.973752, time: 0.2090 min\n",
      "----------\n",
      "Epoch 66/100\n",
      "train loss: 499.251603, time: 0.2131 min\n",
      "----------\n",
      "Epoch 67/100\n",
      "train loss: 499.079334, time: 0.2161 min\n",
      "----------\n",
      "Epoch 68/100\n",
      "train loss: 501.001416, time: 0.2197 min\n",
      "----------\n",
      "Epoch 69/100\n",
      "train loss: 499.852250, time: 0.2227 min\n",
      "----------\n",
      "Epoch 70/100\n",
      "train loss: 500.071703, time: 0.2261 min\n",
      "----------\n",
      "Epoch 71/100\n",
      "train loss: 498.305680, time: 0.2293 min\n",
      "----------\n",
      "Epoch 72/100\n",
      "train loss: 499.316103, time: 0.2329 min\n",
      "----------\n",
      "Epoch 73/100\n",
      "train loss: 499.466893, time: 0.2361 min\n",
      "----------\n",
      "Epoch 74/100\n",
      "train loss: 501.553839, time: 0.2395 min\n",
      "----------\n",
      "Epoch 75/100\n",
      "train loss: 499.347732, time: 0.2437 min\n",
      "----------\n",
      "Epoch 76/100\n",
      "train loss: 500.116969, time: 0.2485 min\n",
      "----------\n",
      "Epoch 77/100\n",
      "train loss: 498.367363, time: 0.2515 min\n",
      "----------\n",
      "Epoch 78/100\n",
      "train loss: 499.928458, time: 0.2549 min\n",
      "----------\n",
      "Epoch 79/100\n",
      "train loss: 500.932461, time: 0.2582 min\n",
      "----------\n",
      "Epoch 80/100\n",
      "train loss: 499.620405, time: 0.2627 min\n",
      "----------\n",
      "Epoch 81/100\n",
      "train loss: 501.857326, time: 0.2659 min\n",
      "----------\n",
      "Epoch 82/100\n",
      "train loss: 499.908456, time: 0.2697 min\n",
      "----------\n",
      "Epoch 83/100\n",
      "train loss: 500.679355, time: 0.2737 min\n",
      "----------\n",
      "Epoch 84/100\n",
      "train loss: 498.821842, time: 0.2775 min\n",
      "----------\n",
      "Epoch 85/100\n",
      "train loss: 499.621012, time: 0.2815 min\n",
      "----------\n",
      "Epoch 86/100\n",
      "train loss: 499.841101, time: 0.2852 min\n",
      "----------\n",
      "Epoch 87/100\n",
      "train loss: 499.412868, time: 0.2892 min\n",
      "----------\n",
      "Epoch 88/100\n",
      "train loss: 501.150301, time: 0.2928 min\n",
      "----------\n",
      "Epoch 89/100\n",
      "train loss: 499.246454, time: 0.2967 min\n",
      "----------\n",
      "Epoch 90/100\n",
      "train loss: 498.355363, time: 0.3006 min\n",
      "----------\n",
      "Epoch 91/100\n",
      "train loss: 501.420249, time: 0.3058 min\n",
      "----------\n",
      "Epoch 92/100\n",
      "train loss: 501.060656, time: 0.3105 min\n",
      "----------\n",
      "Epoch 93/100\n",
      "train loss: 499.781684, time: 0.3141 min\n",
      "----------\n",
      "Epoch 94/100\n",
      "train loss: 500.671006, time: 0.3179 min\n",
      "----------\n",
      "Epoch 95/100\n",
      "train loss: 499.449214, time: 0.3219 min\n",
      "----------\n",
      "Epoch 96/100\n",
      "train loss: 499.209018, time: 0.3253 min\n",
      "----------\n",
      "Epoch 97/100\n",
      "train loss: 501.023323, time: 0.3293 min\n",
      "----------\n",
      "Epoch 98/100\n",
      "train loss: 498.506263, time: 0.3336 min\n",
      "----------\n",
      "Epoch 99/100\n",
      "train loss: 501.605075, time: 0.3382 min\n",
      "----------\n",
      "Epoch 100/100\n",
      "train loss: 501.122918, time: 0.3417 min\n",
      "----------\n"
     ]
    }
   ],
   "source": [
    "# run\n",
    "loss_history = {'train': []}\n",
    "start_time = time.time()\n",
    "\n",
    "for epoch in range(1, CFG['EPOCHS'] + 1):\n",
    "    \n",
    "    print('Epoch {}/{}'.format(epoch, CFG['EPOCHS']))\n",
    "    \n",
    "    train_loss = training(model, train_loader, optimizer)\n",
    "    loss_history['train'].append(train_loss)\n",
    "    \n",
    "    print('train loss: %.6f, time: %.4f min' %(train_loss, (time.time()-start_time)/60))\n",
    "    print('-'*10)"
   ]
  },
  {
   "cell_type": "markdown",
   "id": "a13702c8",
   "metadata": {},
   "source": [
    "## Predict"
   ]
  },
  {
   "cell_type": "code",
   "execution_count": 240,
   "id": "49789eed",
   "metadata": {},
   "outputs": [],
   "source": [
    "def eval(model, dataloader):\n",
    "    scores = []\n",
    "    model.eval()\n",
    "    print('Testing...')\n",
    "    with torch.no_grad():\n",
    "        for x in dataloader:\n",
    "            x = x.to(device)\n",
    "            x_hat, z = model(x)\n",
    "            score = torch.mean( torch.abs(x - x_hat) , axis=1)\n",
    "            scores.extend(score.cpu().numpy())\n",
    "            \n",
    "    return np.array(scores), z"
   ]
  },
  {
   "cell_type": "code",
   "execution_count": 241,
   "id": "bbd128cd",
   "metadata": {},
   "outputs": [],
   "source": [
    "def get_pred_label(model_pred, t):\n",
    "    # (0:정상, 1:불량)로 Label 변환\n",
    "    model_pred = np.where(model_pred <= t, 0, model_pred)\n",
    "    model_pred = np.where(model_pred > t, 1, model_pred)\n",
    "    return model_pred"
   ]
  },
  {
   "cell_type": "code",
   "execution_count": 242,
   "id": "67ed27e3",
   "metadata": {},
   "outputs": [],
   "source": [
    "with torch.no_grad():\n",
    "    for j, x in enumerate(train_loader):\n",
    "        x = x.to(device)\n",
    "        optimizer.zero_grad()\n",
    "        output, z = model.forward(x)\n",
    "        break"
   ]
  },
  {
   "cell_type": "code",
   "execution_count": 243,
   "id": "80af650b",
   "metadata": {},
   "outputs": [
    {
     "name": "stdout",
     "output_type": "stream",
     "text": [
      "Testing...\n",
      "(2463,)\n"
     ]
    }
   ],
   "source": [
    "scores, z = eval(model, train_loader)\n",
    "# Train data (정상 데이터)에서 발견할 수 있는 score의 최댓값인 t를 임계치로 설정\n",
    "# 정상데이터 관찰할 수 있는 관측치 중 가장 큰 값이므로, 임계치 이하의 값은 \n",
    "# 정상 데이터일 것이라는 가정\n",
    "t=scores.max()\n",
    "\n",
    "print(scores.shape)"
   ]
  },
  {
   "cell_type": "markdown",
   "id": "29ce5690",
   "metadata": {},
   "source": [
    "## Inference"
   ]
  },
  {
   "cell_type": "code",
   "execution_count": 244,
   "id": "dacbc2ce",
   "metadata": {},
   "outputs": [
    {
     "data": {
      "text/plain": [
       "Counter({0.0: 2463})"
      ]
     },
     "execution_count": 244,
     "metadata": {},
     "output_type": "execute_result"
    }
   ],
   "source": [
    "train_pred = get_pred_label(scores, t)\n",
    "Counter(train_pred)"
   ]
  },
  {
   "cell_type": "code",
   "execution_count": 245,
   "id": "7ac010f9",
   "metadata": {},
   "outputs": [
    {
     "name": "stdout",
     "output_type": "stream",
     "text": [
      "Testing...\n"
     ]
    }
   ],
   "source": [
    "scores_, z_ = eval(model, test_loader)"
   ]
  },
  {
   "cell_type": "code",
   "execution_count": 246,
   "id": "17b6c000",
   "metadata": {},
   "outputs": [],
   "source": [
    "pred_test = get_pred_label(scores_, t)"
   ]
  },
  {
   "cell_type": "code",
   "execution_count": 247,
   "id": "44ea5cbe",
   "metadata": {},
   "outputs": [
    {
     "data": {
      "text/plain": [
       "(7389, 0)"
      ]
     },
     "execution_count": 247,
     "metadata": {},
     "output_type": "execute_result"
    }
   ],
   "source": [
    "# 정상 (0), 이상 (1)\n",
    "list(pred_test).count(0), list(pred_test).count(1)"
   ]
  },
  {
   "cell_type": "markdown",
   "id": "7c55ed2f",
   "metadata": {},
   "source": [
    "## Submission"
   ]
  },
  {
   "cell_type": "code",
   "execution_count": 263,
   "id": "21b1e4f0",
   "metadata": {},
   "outputs": [],
   "source": [
    "submit = pd.read_csv('./data/answer_sample.csv')"
   ]
  },
  {
   "cell_type": "code",
   "execution_count": 264,
   "id": "5fdea970",
   "metadata": {},
   "outputs": [
    {
     "data": {
      "text/html": [
       "<div>\n",
       "<style scoped>\n",
       "    .dataframe tbody tr th:only-of-type {\n",
       "        vertical-align: middle;\n",
       "    }\n",
       "\n",
       "    .dataframe tbody tr th {\n",
       "        vertical-align: top;\n",
       "    }\n",
       "\n",
       "    .dataframe thead th {\n",
       "        text-align: right;\n",
       "    }\n",
       "</style>\n",
       "<table border=\"1\" class=\"dataframe\">\n",
       "  <thead>\n",
       "    <tr style=\"text-align: right;\">\n",
       "      <th></th>\n",
       "      <th>type</th>\n",
       "      <th>label</th>\n",
       "    </tr>\n",
       "  </thead>\n",
       "  <tbody>\n",
       "    <tr>\n",
       "      <th>0</th>\n",
       "      <td>0</td>\n",
       "      <td>0</td>\n",
       "    </tr>\n",
       "    <tr>\n",
       "      <th>1</th>\n",
       "      <td>0</td>\n",
       "      <td>0</td>\n",
       "    </tr>\n",
       "    <tr>\n",
       "      <th>2</th>\n",
       "      <td>0</td>\n",
       "      <td>1</td>\n",
       "    </tr>\n",
       "    <tr>\n",
       "      <th>3</th>\n",
       "      <td>0</td>\n",
       "      <td>1</td>\n",
       "    </tr>\n",
       "    <tr>\n",
       "      <th>4</th>\n",
       "      <td>0</td>\n",
       "      <td>1</td>\n",
       "    </tr>\n",
       "  </tbody>\n",
       "</table>\n",
       "</div>"
      ],
      "text/plain": [
       "   type  label\n",
       "0     0      0\n",
       "1     0      0\n",
       "2     0      1\n",
       "3     0      1\n",
       "4     0      1"
      ]
     },
     "execution_count": 264,
     "metadata": {},
     "output_type": "execute_result"
    }
   ],
   "source": [
    "submit['label'] = pred_test\n",
    "submit.head()"
   ]
  },
  {
   "cell_type": "code",
   "execution_count": 265,
   "id": "caf88784",
   "metadata": {},
   "outputs": [],
   "source": [
    "submit.to_csv('./submit/kmeans.csv', index=False)"
   ]
  },
  {
   "cell_type": "code",
   "execution_count": null,
   "id": "730cd407",
   "metadata": {},
   "outputs": [],
   "source": []
  }
 ],
 "metadata": {
  "kernelspec": {
   "display_name": "Python 3 (ipykernel)",
   "language": "python",
   "name": "python3"
  },
  "language_info": {
   "codemirror_mode": {
    "name": "ipython",
    "version": 3
   },
   "file_extension": ".py",
   "mimetype": "text/x-python",
   "name": "python",
   "nbconvert_exporter": "python",
   "pygments_lexer": "ipython3",
   "version": "3.9.13"
  }
 },
 "nbformat": 4,
 "nbformat_minor": 5
}
