{
 "cells": [
  {
   "cell_type": "code",
   "execution_count": 35,
   "id": "98672786",
   "metadata": {},
   "outputs": [],
   "source": [
    "import random\n",
    "import pandas as pd\n",
    "import numpy as np\n",
    "import os\n",
    "from sklearn.preprocessing import MinMaxScaler\n",
    "\n",
    "from sklearn.ensemble import IsolationForest\n",
    "from sklearn.svm import OneClassSVM\n",
    "from sklearn.decomposition import PCA\n",
    "\n",
    "\n",
    "from sklearn.metrics import f1_score\n",
    "\n",
    "import warnings\n",
    "warnings.filterwarnings(action='ignore')"
   ]
  },
  {
   "cell_type": "code",
   "execution_count": 36,
   "id": "14a3edc3",
   "metadata": {},
   "outputs": [],
   "source": [
    "# Random Seed\n",
    "def seed_everything(seed):\n",
    "    random.seed(seed)\n",
    "    os.environ['PYTHONHASHSEED'] = str(seed)\n",
    "    np.random.seed(seed)\n",
    "    \n",
    "seed_everything(69) # Seed 고정"
   ]
  },
  {
   "cell_type": "markdown",
   "id": "0036c3d9",
   "metadata": {},
   "source": [
    "## Data Load"
   ]
  },
  {
   "cell_type": "code",
   "execution_count": 37,
   "id": "1a78bb32",
   "metadata": {},
   "outputs": [],
   "source": [
    "train = pd.read_csv('./data/train_data.csv')\n",
    "test = pd.read_csv('./data/test_data.csv')"
   ]
  },
  {
   "cell_type": "code",
   "execution_count": 38,
   "id": "84eff170",
   "metadata": {},
   "outputs": [
    {
     "data": {
      "text/html": [
       "<div>\n",
       "<style scoped>\n",
       "    .dataframe tbody tr th:only-of-type {\n",
       "        vertical-align: middle;\n",
       "    }\n",
       "\n",
       "    .dataframe tbody tr th {\n",
       "        vertical-align: top;\n",
       "    }\n",
       "\n",
       "    .dataframe thead th {\n",
       "        text-align: right;\n",
       "    }\n",
       "</style>\n",
       "<table border=\"1\" class=\"dataframe\">\n",
       "  <thead>\n",
       "    <tr style=\"text-align: right;\">\n",
       "      <th></th>\n",
       "      <th>air_inflow</th>\n",
       "      <th>air_end_temp</th>\n",
       "      <th>out_pressure</th>\n",
       "      <th>motor_current</th>\n",
       "      <th>motor_rpm</th>\n",
       "      <th>motor_temp</th>\n",
       "      <th>motor_vibe</th>\n",
       "      <th>type</th>\n",
       "    </tr>\n",
       "  </thead>\n",
       "  <tbody>\n",
       "    <tr>\n",
       "      <th>0</th>\n",
       "      <td>1.59</td>\n",
       "      <td>41.00</td>\n",
       "      <td>0.7</td>\n",
       "      <td>20.53</td>\n",
       "      <td>1680.0</td>\n",
       "      <td>58.67</td>\n",
       "      <td>2.93</td>\n",
       "      <td>0</td>\n",
       "    </tr>\n",
       "    <tr>\n",
       "      <th>1</th>\n",
       "      <td>2.97</td>\n",
       "      <td>59.28</td>\n",
       "      <td>0.7</td>\n",
       "      <td>38.40</td>\n",
       "      <td>3142.0</td>\n",
       "      <td>74.91</td>\n",
       "      <td>3.75</td>\n",
       "      <td>0</td>\n",
       "    </tr>\n",
       "  </tbody>\n",
       "</table>\n",
       "</div>"
      ],
      "text/plain": [
       "   air_inflow  air_end_temp  out_pressure  motor_current  motor_rpm  \\\n",
       "0        1.59         41.00           0.7          20.53     1680.0   \n",
       "1        2.97         59.28           0.7          38.40     3142.0   \n",
       "\n",
       "   motor_temp  motor_vibe  type  \n",
       "0       58.67        2.93     0  \n",
       "1       74.91        3.75     0  "
      ]
     },
     "execution_count": 38,
     "metadata": {},
     "output_type": "execute_result"
    }
   ],
   "source": [
    "train.head(2)"
   ]
  },
  {
   "cell_type": "code",
   "execution_count": 39,
   "id": "5063d518",
   "metadata": {},
   "outputs": [
    {
     "name": "stdout",
     "output_type": "stream",
     "text": [
      "<class 'pandas.core.frame.DataFrame'>\n",
      "RangeIndex: 2463 entries, 0 to 2462\n",
      "Data columns (total 8 columns):\n",
      " #   Column         Non-Null Count  Dtype  \n",
      "---  ------         --------------  -----  \n",
      " 0   air_inflow     2463 non-null   float64\n",
      " 1   air_end_temp   2463 non-null   float64\n",
      " 2   out_pressure   2463 non-null   float64\n",
      " 3   motor_current  2463 non-null   float64\n",
      " 4   motor_rpm      2463 non-null   float64\n",
      " 5   motor_temp     2463 non-null   float64\n",
      " 6   motor_vibe     2463 non-null   float64\n",
      " 7   type           2463 non-null   int64  \n",
      "dtypes: float64(7), int64(1)\n",
      "memory usage: 154.1 KB\n"
     ]
    }
   ],
   "source": [
    "train.info()"
   ]
  },
  {
   "cell_type": "markdown",
   "id": "62ae5348",
   "metadata": {},
   "source": [
    "## EDA"
   ]
  },
  {
   "cell_type": "markdown",
   "id": "713500a8",
   "metadata": {},
   "source": [
    "#### type"
   ]
  },
  {
   "cell_type": "code",
   "execution_count": 19,
   "id": "26ac1ae9",
   "metadata": {},
   "outputs": [
    {
     "data": {
      "text/plain": [
       "array([0, 1, 2, 3, 4, 5, 6, 7], dtype=int64)"
      ]
     },
     "execution_count": 19,
     "metadata": {},
     "output_type": "execute_result"
    }
   ],
   "source": [
    "train['type'].unique()"
   ]
  },
  {
   "cell_type": "markdown",
   "id": "bf6db382",
   "metadata": {},
   "source": [
    "## Pre-Processing"
   ]
  },
  {
   "cell_type": "markdown",
   "id": "f27b4dbc",
   "metadata": {},
   "source": [
    "#### Scaling"
   ]
  },
  {
   "cell_type": "code",
   "execution_count": 40,
   "id": "1468585d",
   "metadata": {},
   "outputs": [],
   "source": [
    "num_features = ['air_inflow', 'air_end_temp', 'out_pressure',\n",
    "                'motor_current', 'motor_rpm', 'motor_temp',\n",
    "                'motor_vibe']"
   ]
  },
  {
   "cell_type": "code",
   "execution_count": 41,
   "id": "5b618fdb",
   "metadata": {},
   "outputs": [],
   "source": [
    "scaler = MinMaxScaler()\n",
    "train[num_features] = scaler.fit_transform(train[num_features])\n",
    "test[num_features] = scaler.transform(test[num_features])"
   ]
  },
  {
   "cell_type": "markdown",
   "id": "c54a8f34",
   "metadata": {},
   "source": [
    "#### One Hot Encoding"
   ]
  },
  {
   "cell_type": "code",
   "execution_count": 42,
   "id": "3837858c",
   "metadata": {},
   "outputs": [],
   "source": [
    "# int -> str\n",
    "train['type'] = train['type'].astype(str)\n",
    "test['type'] = test['type'].astype(str)"
   ]
  },
  {
   "cell_type": "code",
   "execution_count": 43,
   "id": "29441dbf",
   "metadata": {},
   "outputs": [],
   "source": [
    "train = pd.get_dummies(train)\n",
    "test = pd.get_dummies(test)"
   ]
  },
  {
   "cell_type": "code",
   "execution_count": 44,
   "id": "d14e1409",
   "metadata": {},
   "outputs": [
    {
     "data": {
      "text/html": [
       "<div>\n",
       "<style scoped>\n",
       "    .dataframe tbody tr th:only-of-type {\n",
       "        vertical-align: middle;\n",
       "    }\n",
       "\n",
       "    .dataframe tbody tr th {\n",
       "        vertical-align: top;\n",
       "    }\n",
       "\n",
       "    .dataframe thead th {\n",
       "        text-align: right;\n",
       "    }\n",
       "</style>\n",
       "<table border=\"1\" class=\"dataframe\">\n",
       "  <thead>\n",
       "    <tr style=\"text-align: right;\">\n",
       "      <th></th>\n",
       "      <th>air_inflow</th>\n",
       "      <th>air_end_temp</th>\n",
       "      <th>out_pressure</th>\n",
       "      <th>motor_current</th>\n",
       "      <th>motor_rpm</th>\n",
       "      <th>motor_temp</th>\n",
       "      <th>motor_vibe</th>\n",
       "      <th>type_0</th>\n",
       "      <th>type_1</th>\n",
       "      <th>type_2</th>\n",
       "      <th>type_3</th>\n",
       "      <th>type_4</th>\n",
       "      <th>type_5</th>\n",
       "      <th>type_6</th>\n",
       "      <th>type_7</th>\n",
       "    </tr>\n",
       "  </thead>\n",
       "  <tbody>\n",
       "    <tr>\n",
       "      <th>0</th>\n",
       "      <td>0.213922</td>\n",
       "      <td>0.272396</td>\n",
       "      <td>0.0</td>\n",
       "      <td>0.227873</td>\n",
       "      <td>0.202708</td>\n",
       "      <td>0.275531</td>\n",
       "      <td>0.048241</td>\n",
       "      <td>1</td>\n",
       "      <td>0</td>\n",
       "      <td>0</td>\n",
       "      <td>0</td>\n",
       "      <td>0</td>\n",
       "      <td>0</td>\n",
       "      <td>0</td>\n",
       "      <td>0</td>\n",
       "    </tr>\n",
       "    <tr>\n",
       "      <th>1</th>\n",
       "      <td>0.448217</td>\n",
       "      <td>0.827513</td>\n",
       "      <td>0.0</td>\n",
       "      <td>0.495950</td>\n",
       "      <td>0.821413</td>\n",
       "      <td>0.813992</td>\n",
       "      <td>0.089447</td>\n",
       "      <td>1</td>\n",
       "      <td>0</td>\n",
       "      <td>0</td>\n",
       "      <td>0</td>\n",
       "      <td>0</td>\n",
       "      <td>0</td>\n",
       "      <td>0</td>\n",
       "      <td>0</td>\n",
       "    </tr>\n",
       "    <tr>\n",
       "      <th>2</th>\n",
       "      <td>0.268251</td>\n",
       "      <td>0.402672</td>\n",
       "      <td>0.0</td>\n",
       "      <td>0.290879</td>\n",
       "      <td>0.347863</td>\n",
       "      <td>0.401857</td>\n",
       "      <td>0.057789</td>\n",
       "      <td>1</td>\n",
       "      <td>0</td>\n",
       "      <td>0</td>\n",
       "      <td>0</td>\n",
       "      <td>0</td>\n",
       "      <td>0</td>\n",
       "      <td>0</td>\n",
       "      <td>0</td>\n",
       "    </tr>\n",
       "    <tr>\n",
       "      <th>3</th>\n",
       "      <td>0.346350</td>\n",
       "      <td>0.586092</td>\n",
       "      <td>0.0</td>\n",
       "      <td>0.379388</td>\n",
       "      <td>0.552264</td>\n",
       "      <td>0.579576</td>\n",
       "      <td>0.071357</td>\n",
       "      <td>1</td>\n",
       "      <td>0</td>\n",
       "      <td>0</td>\n",
       "      <td>0</td>\n",
       "      <td>0</td>\n",
       "      <td>0</td>\n",
       "      <td>0</td>\n",
       "      <td>0</td>\n",
       "    </tr>\n",
       "    <tr>\n",
       "      <th>4</th>\n",
       "      <td>0.266553</td>\n",
       "      <td>0.400243</td>\n",
       "      <td>0.0</td>\n",
       "      <td>0.289679</td>\n",
       "      <td>0.345324</td>\n",
       "      <td>0.399536</td>\n",
       "      <td>0.057789</td>\n",
       "      <td>1</td>\n",
       "      <td>0</td>\n",
       "      <td>0</td>\n",
       "      <td>0</td>\n",
       "      <td>0</td>\n",
       "      <td>0</td>\n",
       "      <td>0</td>\n",
       "      <td>0</td>\n",
       "    </tr>\n",
       "  </tbody>\n",
       "</table>\n",
       "</div>"
      ],
      "text/plain": [
       "   air_inflow  air_end_temp  out_pressure  motor_current  motor_rpm  \\\n",
       "0    0.213922      0.272396           0.0       0.227873   0.202708   \n",
       "1    0.448217      0.827513           0.0       0.495950   0.821413   \n",
       "2    0.268251      0.402672           0.0       0.290879   0.347863   \n",
       "3    0.346350      0.586092           0.0       0.379388   0.552264   \n",
       "4    0.266553      0.400243           0.0       0.289679   0.345324   \n",
       "\n",
       "   motor_temp  motor_vibe  type_0  type_1  type_2  type_3  type_4  type_5  \\\n",
       "0    0.275531    0.048241       1       0       0       0       0       0   \n",
       "1    0.813992    0.089447       1       0       0       0       0       0   \n",
       "2    0.401857    0.057789       1       0       0       0       0       0   \n",
       "3    0.579576    0.071357       1       0       0       0       0       0   \n",
       "4    0.399536    0.057789       1       0       0       0       0       0   \n",
       "\n",
       "   type_6  type_7  \n",
       "0       0       0  \n",
       "1       0       0  \n",
       "2       0       0  \n",
       "3       0       0  \n",
       "4       0       0  "
      ]
     },
     "execution_count": 44,
     "metadata": {},
     "output_type": "execute_result"
    }
   ],
   "source": [
    "train.head()"
   ]
  },
  {
   "cell_type": "markdown",
   "id": "41fd8ff6",
   "metadata": {},
   "source": [
    "#### Drop column"
   ]
  },
  {
   "cell_type": "code",
   "execution_count": 45,
   "id": "9f95f6fd",
   "metadata": {},
   "outputs": [],
   "source": [
    "train.drop('out_pressure', axis=1, inplace=True)\n",
    "test.drop('out_pressure', axis=1, inplace=True)"
   ]
  },
  {
   "cell_type": "markdown",
   "id": "b2ec79e8",
   "metadata": {},
   "source": [
    "## Train"
   ]
  },
  {
   "cell_type": "code",
   "execution_count": 46,
   "id": "122578d3",
   "metadata": {},
   "outputs": [],
   "source": [
    "# PCA는 웬만하면 스케일링 하는게 좋을껄?\n",
    "pca = PCA()\n",
    "train_pca = pca.fit_transform(train)"
   ]
  },
  {
   "cell_type": "code",
   "execution_count": 47,
   "id": "e36225b3",
   "metadata": {},
   "outputs": [
    {
     "data": {
      "text/plain": [
       "IsolationForest(max_samples=256, n_estimators=200, random_state=69)"
      ]
     },
     "execution_count": 47,
     "metadata": {},
     "output_type": "execute_result"
    }
   ],
   "source": [
    "model = IsolationForest(max_samples=256, n_estimators=200, random_state=69)\n",
    "model.fit(train_pca)"
   ]
  },
  {
   "cell_type": "markdown",
   "id": "a13702c8",
   "metadata": {},
   "source": [
    "## Predict"
   ]
  },
  {
   "cell_type": "markdown",
   "id": "40bba951",
   "metadata": {},
   "source": [
    "### Isolation Forest일 경우"
   ]
  },
  {
   "cell_type": "code",
   "execution_count": 29,
   "id": "976acdcc",
   "metadata": {},
   "outputs": [],
   "source": [
    "# IsolationForest 모델 출력 (1:정상, -1:불량) 이므로 (0:정상, 1:불량)로 Label 변환\n",
    "def get_pred_label(model_pred):\n",
    "    model_pred = np.where(model_pred == 1, 0, model_pred)\n",
    "    model_pred = np.where(model_pred == -1, 1, model_pred)\n",
    "    return model_pred"
   ]
  },
  {
   "cell_type": "code",
   "execution_count": 30,
   "id": "fd0fd143",
   "metadata": {},
   "outputs": [],
   "source": [
    "pred_test = model.predict(test)\n",
    "pred_test = get_pred_label(pred_test)"
   ]
  },
  {
   "cell_type": "markdown",
   "id": "89775a1c",
   "metadata": {},
   "source": [
    "#### 1845 5544 이 결과가 좀 이상하긴 해용"
   ]
  },
  {
   "cell_type": "code",
   "execution_count": 31,
   "id": "99366cdb",
   "metadata": {},
   "outputs": [
    {
     "data": {
      "text/plain": [
       "(1845, 5544)"
      ]
     },
     "execution_count": 31,
     "metadata": {},
     "output_type": "execute_result"
    }
   ],
   "source": [
    "# 정상 (0), 이상 (1)\n",
    "list(pred_test).count(0), list(pred_test).count(1)"
   ]
  },
  {
   "cell_type": "markdown",
   "id": "ea1a635a",
   "metadata": {},
   "source": [
    "## Submission"
   ]
  },
  {
   "cell_type": "code",
   "execution_count": 49,
   "id": "21b1e4f0",
   "metadata": {},
   "outputs": [],
   "source": [
    "submit = pd.read_csv('./data/answer_sample.csv')"
   ]
  },
  {
   "cell_type": "code",
   "execution_count": 50,
   "id": "5fdea970",
   "metadata": {},
   "outputs": [
    {
     "data": {
      "text/html": [
       "<div>\n",
       "<style scoped>\n",
       "    .dataframe tbody tr th:only-of-type {\n",
       "        vertical-align: middle;\n",
       "    }\n",
       "\n",
       "    .dataframe tbody tr th {\n",
       "        vertical-align: top;\n",
       "    }\n",
       "\n",
       "    .dataframe thead th {\n",
       "        text-align: right;\n",
       "    }\n",
       "</style>\n",
       "<table border=\"1\" class=\"dataframe\">\n",
       "  <thead>\n",
       "    <tr style=\"text-align: right;\">\n",
       "      <th></th>\n",
       "      <th>type</th>\n",
       "      <th>label</th>\n",
       "    </tr>\n",
       "  </thead>\n",
       "  <tbody>\n",
       "    <tr>\n",
       "      <th>0</th>\n",
       "      <td>0</td>\n",
       "      <td>0</td>\n",
       "    </tr>\n",
       "    <tr>\n",
       "      <th>1</th>\n",
       "      <td>0</td>\n",
       "      <td>0</td>\n",
       "    </tr>\n",
       "    <tr>\n",
       "      <th>2</th>\n",
       "      <td>0</td>\n",
       "      <td>1</td>\n",
       "    </tr>\n",
       "    <tr>\n",
       "      <th>3</th>\n",
       "      <td>0</td>\n",
       "      <td>0</td>\n",
       "    </tr>\n",
       "    <tr>\n",
       "      <th>4</th>\n",
       "      <td>0</td>\n",
       "      <td>0</td>\n",
       "    </tr>\n",
       "  </tbody>\n",
       "</table>\n",
       "</div>"
      ],
      "text/plain": [
       "   type  label\n",
       "0     0      0\n",
       "1     0      0\n",
       "2     0      1\n",
       "3     0      0\n",
       "4     0      0"
      ]
     },
     "execution_count": 50,
     "metadata": {},
     "output_type": "execute_result"
    }
   ],
   "source": [
    "submit['label'] = pred_test\n",
    "submit.head()"
   ]
  },
  {
   "cell_type": "code",
   "execution_count": 51,
   "id": "caf88784",
   "metadata": {},
   "outputs": [],
   "source": [
    "submit.to_csv('./submit/pca_isolation2.csv', index=False)"
   ]
  },
  {
   "cell_type": "code",
   "execution_count": null,
   "id": "730cd407",
   "metadata": {},
   "outputs": [],
   "source": []
  }
 ],
 "metadata": {
  "kernelspec": {
   "display_name": "Python 3 (ipykernel)",
   "language": "python",
   "name": "python3"
  },
  "language_info": {
   "codemirror_mode": {
    "name": "ipython",
    "version": 3
   },
   "file_extension": ".py",
   "mimetype": "text/x-python",
   "name": "python",
   "nbconvert_exporter": "python",
   "pygments_lexer": "ipython3",
   "version": "3.9.13"
  }
 },
 "nbformat": 4,
 "nbformat_minor": 5
}
